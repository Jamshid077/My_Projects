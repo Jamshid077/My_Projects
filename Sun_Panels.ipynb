{
  "nbformat": 4,
  "nbformat_minor": 0,
  "metadata": {
    "colab": {
      "private_outputs": true,
      "provenance": [],
      "gpuType": "T4",
      "authorship_tag": "ABX9TyOXHi/DVn6ocew9emZMRyif",
      "include_colab_link": true
    },
    "kernelspec": {
      "name": "python3",
      "display_name": "Python 3"
    },
    "language_info": {
      "name": "python"
    },
    "gpuClass": "standard",
    "accelerator": "GPU"
  },
  "cells": [
    {
      "cell_type": "markdown",
      "metadata": {
        "id": "view-in-github",
        "colab_type": "text"
      },
      "source": [
        "<a href=\"https://colab.research.google.com/github/Jamshidbek077/My_Projects/blob/master/Sun_Panels.ipynb\" target=\"_parent\"><img src=\"https://colab.research.google.com/assets/colab-badge.svg\" alt=\"Open In Colab\"/></a>"
      ]
    },
    {
      "cell_type": "code",
      "execution_count": null,
      "metadata": {
        "id": "FQOraKvAYxcY"
      },
      "outputs": [],
      "source": [
        "import pandas as pd \n",
        "import numpy as np \n"
      ]
    },
    {
      "cell_type": "code",
      "source": [
        "dff=pd.read_csv('/content/dust_deposition_data.csv')\n",
        "# dff"
      ],
      "metadata": {
        "id": "DKhrZ5pmY9ZG"
      },
      "execution_count": null,
      "outputs": []
    },
    {
      "cell_type": "code",
      "source": [
        "df=pd.read_csv('/content/dust_deposition_data (2).csv')\n",
        "df=df.drop('Date_m.d.yyy1',axis=1)\n",
        "df['Atmospheric_pressure']=dff['Atmospheric_pressure']\n",
        "df.head()"
      ],
      "metadata": {
        "id": "niPWg1EycQI2"
      },
      "execution_count": null,
      "outputs": []
    },
    {
      "cell_type": "code",
      "source": [
        "df['Date_m.d.yyy']=pd.to_datetime(df['Date_m.d.yyy'])\n",
        "df.info()"
      ],
      "metadata": {
        "id": "DObNmp4bya61"
      },
      "execution_count": null,
      "outputs": []
    },
    {
      "cell_type": "code",
      "source": [
        "df.isna()"
      ],
      "metadata": {
        "id": "qxakImlKZS0n"
      },
      "execution_count": null,
      "outputs": []
    },
    {
      "cell_type": "code",
      "source": [
        "df.isnull()"
      ],
      "metadata": {
        "id": "EI2Jyv_nZcLE"
      },
      "execution_count": null,
      "outputs": []
    },
    {
      "cell_type": "code",
      "source": [
        "df.info()"
      ],
      "metadata": {
        "id": "JNMuQbJdaI5G"
      },
      "execution_count": null,
      "outputs": []
    },
    {
      "cell_type": "code",
      "source": [
        "df.describe()"
      ],
      "metadata": {
        "id": "sx4OfUmfg9pf"
      },
      "execution_count": null,
      "outputs": []
    },
    {
      "cell_type": "markdown",
      "source": [
        "# Vizualizatsiya"
      ],
      "metadata": {
        "id": "3PFZLdwIy-Iw"
      }
    },
    {
      "cell_type": "code",
      "source": [
        "import matplotlib.pyplot as plt\n",
        "import seaborn as sns\n",
        "%matplotlib inline \n",
        "sns.pairplot(data=df)\n",
        "\n",
        "plt.show()"
      ],
      "metadata": {
        "id": "XhAj6plMy9me"
      },
      "execution_count": null,
      "outputs": []
    },
    {
      "cell_type": "code",
      "source": [],
      "metadata": {
        "id": "WbOvuGmA4t8t"
      },
      "execution_count": null,
      "outputs": []
    },
    {
      "cell_type": "code",
      "source": [
        "# plt.figure(figsize=(15,20))\n",
        "# df['Date_m.d.yyy'] = df['Date_m.d.yyy'].map(lambda dt: dt.strftime('%Y-%m-%d'))\n",
        "\n",
        "# grouped_df = df.groupby('Date_m.d.yyy').size().to_frame(\"count\").reset_index()\n",
        "\n",
        "# grouped_df.plot(kind='bar', x='year_month_of_admission', y='count')\n",
        "# plt.show()"
      ],
      "metadata": {
        "id": "siIQ8cJw12oV"
      },
      "execution_count": null,
      "outputs": []
    },
    {
      "cell_type": "markdown",
      "source": [
        "# ML model "
      ],
      "metadata": {
        "id": "QPZqcwzYvhek"
      }
    },
    {
      "cell_type": "code",
      "source": [
        "from sklearn.neighbors import KNeighborsRegressor\n",
        "#from sklearn.naive_bayes import GaussianNB\n",
        "from sklearn.ensemble import RandomForestRegressor\n",
        "from sklearn.linear_model import LinearRegression,Lasso,Ridge,ElasticNet\n",
        "from sklearn.linear_model import LassoCV ,RidgeCV , ElasticNetCV\n",
        "from sklearn.tree import DecisionTreeRegressor\n",
        "from sklearn.ensemble import GradientBoostingRegressor\n",
        "from sklearn.metrics import *\n",
        "from sklearn.model_selection import cross_val_score"
      ],
      "metadata": {
        "id": "ani8wOCJOSt8"
      },
      "execution_count": null,
      "outputs": []
    },
    {
      "cell_type": "code",
      "source": [
        "# from sklearn  import linear_model\n",
        "# MLR_model=linear_model.LinearRegression()\n",
        "# x_train=np.asanyarray(train_set[['Atmospheric_pressure','Temperature']])\n",
        "# y_train=np.asanyarray(train_set[['Dust_deposition']])\n",
        "# MLR_model.fit(x_train,y_train)\n",
        "# print('Coefficients:',MLR_model.coef_)\n",
        "# print('theta0:',MLR_model.intercept_)\n",
        "\n",
        "# Demak bundan korinib turibdiki bizga bu data setimizda Atmosferaning bosimi kattam rol oynar ekan \n",
        "# Eslatma: Bu faqat MLR  va LR uchun"
      ],
      "metadata": {
        "id": "VWk_kYP_vg25"
      },
      "execution_count": null,
      "outputs": []
    },
    {
      "cell_type": "code",
      "source": [
        "x=df.drop(['Dust_deposition','Date_m.d.yyy'],axis=1)\n",
        "y=df['Dust_deposition']"
      ],
      "metadata": {
        "id": "bhHHWScvPCHx"
      },
      "execution_count": null,
      "outputs": []
    },
    {
      "cell_type": "code",
      "source": [
        "from sklearn.preprocessing import StandardScaler\n",
        "st=StandardScaler()\n",
        "x_scalled=st.fit_transform(x)"
      ],
      "metadata": {
        "id": "UdBQREDbPs4J"
      },
      "execution_count": null,
      "outputs": []
    },
    {
      "cell_type": "code",
      "source": [],
      "metadata": {
        "id": "RTXy392z37OZ"
      },
      "execution_count": null,
      "outputs": []
    },
    {
      "cell_type": "markdown",
      "source": [
        "# Train and Test split\n",
        "\n",
        "\n"
      ],
      "metadata": {
        "id": "F6tX-mvluczN"
      }
    },
    {
      "cell_type": "code",
      "source": [
        "from sklearn.model_selection import  train_test_split\n",
        "x_train,x_test,y_train,y_test=train_test_split(x_scalled,y,test_size=0.2,random_state=42)"
      ],
      "metadata": {
        "id": "nhiF7prGO0ip"
      },
      "execution_count": null,
      "outputs": []
    },
    {
      "cell_type": "markdown",
      "source": [
        "# Model Building "
      ],
      "metadata": {
        "id": "ZvGfVrbySOW4"
      }
    },
    {
      "cell_type": "code",
      "source": [
        "def model(y_test,y_train,x_test,x_train,model):\n",
        "    \n",
        "    model1 = model()\n",
        "    model1.fit(x_train,y_train)\n",
        "    y_pred = model1.predict(x_test)\n",
        "    r2_score(y_test,y_pred)\n",
        "    print('-----------------')\n",
        "    print(model)\n",
        "    print('-----------------')\n",
        "    print(f'MSE: {mean_squared_error(y_test,y_pred)}')\n",
        "    print(f'MAE: {mean_absolute_error(y_test,y_pred)}')\n",
        "    print(f'R2 : {round(r2_score(y_test,y_pred)*100,2)} %')"
      ],
      "metadata": {
        "id": "NJlyQwraOodU"
      },
      "execution_count": null,
      "outputs": []
    },
    {
      "cell_type": "code",
      "source": [
        "x = [model(y_test,y_train,x_test,x_train,i) for i in [LinearRegression,Lasso,Ridge,ElasticNet,RandomForestRegressor,DecisionTreeRegressor,KNeighborsRegressor,GradientBoostingRegressor]]\n",
        "x"
      ],
      "metadata": {
        "id": "SO0TejDaRxYP"
      },
      "execution_count": null,
      "outputs": []
    }
  ]
}